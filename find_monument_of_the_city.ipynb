{
 "cells": [
  {
   "cell_type": "code",
   "execution_count": 1,
   "id": "f4f56761-0add-4e87-939a-985ea95e502b",
   "metadata": {},
   "outputs": [
    {
     "name": "stdout",
     "output_type": "stream",
     "text": [
      "Enter the city name\n"
     ]
    },
    {
     "name": "stdin",
     "output_type": "stream",
     "text": [
      " delhi\n"
     ]
    },
    {
     "name": "stdout",
     "output_type": "stream",
     "text": [
      "Red Fort\n"
     ]
    }
   ],
   "source": [
    "print(\"Enter the city name\")\n",
    "city = input()\n",
    "\n",
    "if city == \"Delhi\" or city == \"delhi\" :\n",
    "    print(\"Red Fort\")\n",
    "elif city == \"Agra\" or city ==\"agra\" :\n",
    "    print(\"Taj Mahal\")\n",
    "elif city == \"Jaipur\" or city == \"jaipur\" :\n",
    "    print(\"Jal mahal\")"
   ]
  },
  {
   "cell_type": "code",
   "execution_count": null,
   "id": "002acca4-c772-4ea2-aef8-2d562281c3f6",
   "metadata": {},
   "outputs": [],
   "source": []
  }
 ],
 "metadata": {
  "kernelspec": {
   "display_name": "Python 3 (ipykernel)",
   "language": "python",
   "name": "python3"
  },
  "language_info": {
   "codemirror_mode": {
    "name": "ipython",
    "version": 3
   },
   "file_extension": ".py",
   "mimetype": "text/x-python",
   "name": "python",
   "nbconvert_exporter": "python",
   "pygments_lexer": "ipython3",
   "version": "3.10.8"
  }
 },
 "nbformat": 4,
 "nbformat_minor": 5
}
