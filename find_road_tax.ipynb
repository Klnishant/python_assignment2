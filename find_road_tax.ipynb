{
 "cells": [
  {
   "cell_type": "code",
   "execution_count": 3,
   "id": "83b3ec3b-4d76-4231-a461-032e99a30136",
   "metadata": {},
   "outputs": [
    {
     "name": "stdout",
     "output_type": "stream",
     "text": [
      "Enter the price of the bike\n"
     ]
    },
    {
     "name": "stdin",
     "output_type": "stream",
     "text": [
      " 50000\n"
     ]
    },
    {
     "name": "stdout",
     "output_type": "stream",
     "text": [
      "2500.0\n"
     ]
    }
   ],
   "source": [
    "print(\"Enter the price of the bike\")\n",
    "price = int(input())\n",
    "\n",
    "if price > 100000 :\n",
    "    tax = (price*15)/100\n",
    "    print(tax)\n",
    "elif price > 50000 and price <= 100000 :\n",
    "    tax=(price*10)/100\n",
    "    print(tax)\n",
    "else :\n",
    "    tax = (price*5)/100\n",
    "    print(tax)"
   ]
  },
  {
   "cell_type": "code",
   "execution_count": null,
   "id": "6a9c7a4f-629c-4145-ad07-08bd228f2a83",
   "metadata": {},
   "outputs": [],
   "source": []
  }
 ],
 "metadata": {
  "kernelspec": {
   "display_name": "Python 3 (ipykernel)",
   "language": "python",
   "name": "python3"
  },
  "language_info": {
   "codemirror_mode": {
    "name": "ipython",
    "version": 3
   },
   "file_extension": ".py",
   "mimetype": "text/x-python",
   "name": "python",
   "nbconvert_exporter": "python",
   "pygments_lexer": "ipython3",
   "version": "3.10.8"
  }
 },
 "nbformat": 4,
 "nbformat_minor": 5
}
